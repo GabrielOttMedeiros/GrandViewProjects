{
 "cells": [
  {
   "cell_type": "code",
   "execution_count": 1,
   "metadata": {
    "scrolled": true
   },
   "outputs": [
    {
     "data": {
      "text/html": [
       "<div>\n",
       "<style scoped>\n",
       "    .dataframe tbody tr th:only-of-type {\n",
       "        vertical-align: middle;\n",
       "    }\n",
       "\n",
       "    .dataframe tbody tr th {\n",
       "        vertical-align: top;\n",
       "    }\n",
       "\n",
       "    .dataframe thead th {\n",
       "        text-align: right;\n",
       "    }\n",
       "</style>\n",
       "<table border=\"1\" class=\"dataframe\">\n",
       "  <thead>\n",
       "    <tr style=\"text-align: right;\">\n",
       "      <th></th>\n",
       "      <th>age</th>\n",
       "      <th>job</th>\n",
       "      <th>marital</th>\n",
       "      <th>education</th>\n",
       "      <th>default</th>\n",
       "      <th>balance</th>\n",
       "      <th>housing</th>\n",
       "      <th>loan</th>\n",
       "      <th>contact</th>\n",
       "      <th>day</th>\n",
       "      <th>month</th>\n",
       "      <th>duration</th>\n",
       "      <th>campaign</th>\n",
       "      <th>pdays</th>\n",
       "      <th>previous</th>\n",
       "      <th>poutcome</th>\n",
       "      <th>y</th>\n",
       "    </tr>\n",
       "  </thead>\n",
       "  <tbody>\n",
       "    <tr>\n",
       "      <th>0</th>\n",
       "      <td>30</td>\n",
       "      <td>unemployed</td>\n",
       "      <td>married</td>\n",
       "      <td>primary</td>\n",
       "      <td>no</td>\n",
       "      <td>1787</td>\n",
       "      <td>no</td>\n",
       "      <td>no</td>\n",
       "      <td>cellular</td>\n",
       "      <td>19</td>\n",
       "      <td>oct</td>\n",
       "      <td>79</td>\n",
       "      <td>1</td>\n",
       "      <td>-1</td>\n",
       "      <td>0</td>\n",
       "      <td>unknown</td>\n",
       "      <td>no</td>\n",
       "    </tr>\n",
       "    <tr>\n",
       "      <th>1</th>\n",
       "      <td>33</td>\n",
       "      <td>services</td>\n",
       "      <td>married</td>\n",
       "      <td>secondary</td>\n",
       "      <td>no</td>\n",
       "      <td>4789</td>\n",
       "      <td>yes</td>\n",
       "      <td>yes</td>\n",
       "      <td>cellular</td>\n",
       "      <td>11</td>\n",
       "      <td>may</td>\n",
       "      <td>220</td>\n",
       "      <td>1</td>\n",
       "      <td>339</td>\n",
       "      <td>4</td>\n",
       "      <td>failure</td>\n",
       "      <td>no</td>\n",
       "    </tr>\n",
       "    <tr>\n",
       "      <th>2</th>\n",
       "      <td>35</td>\n",
       "      <td>management</td>\n",
       "      <td>single</td>\n",
       "      <td>tertiary</td>\n",
       "      <td>no</td>\n",
       "      <td>1350</td>\n",
       "      <td>yes</td>\n",
       "      <td>no</td>\n",
       "      <td>cellular</td>\n",
       "      <td>16</td>\n",
       "      <td>apr</td>\n",
       "      <td>185</td>\n",
       "      <td>1</td>\n",
       "      <td>330</td>\n",
       "      <td>1</td>\n",
       "      <td>failure</td>\n",
       "      <td>no</td>\n",
       "    </tr>\n",
       "    <tr>\n",
       "      <th>3</th>\n",
       "      <td>30</td>\n",
       "      <td>management</td>\n",
       "      <td>married</td>\n",
       "      <td>tertiary</td>\n",
       "      <td>no</td>\n",
       "      <td>1476</td>\n",
       "      <td>yes</td>\n",
       "      <td>yes</td>\n",
       "      <td>unknown</td>\n",
       "      <td>3</td>\n",
       "      <td>jun</td>\n",
       "      <td>199</td>\n",
       "      <td>4</td>\n",
       "      <td>-1</td>\n",
       "      <td>0</td>\n",
       "      <td>unknown</td>\n",
       "      <td>no</td>\n",
       "    </tr>\n",
       "    <tr>\n",
       "      <th>4</th>\n",
       "      <td>59</td>\n",
       "      <td>blue-collar</td>\n",
       "      <td>married</td>\n",
       "      <td>secondary</td>\n",
       "      <td>no</td>\n",
       "      <td>0</td>\n",
       "      <td>yes</td>\n",
       "      <td>no</td>\n",
       "      <td>unknown</td>\n",
       "      <td>5</td>\n",
       "      <td>may</td>\n",
       "      <td>226</td>\n",
       "      <td>1</td>\n",
       "      <td>-1</td>\n",
       "      <td>0</td>\n",
       "      <td>unknown</td>\n",
       "      <td>no</td>\n",
       "    </tr>\n",
       "  </tbody>\n",
       "</table>\n",
       "</div>"
      ],
      "text/plain": [
       "   age          job  marital  education default  balance housing loan  \\\n",
       "0   30   unemployed  married    primary      no     1787      no   no   \n",
       "1   33     services  married  secondary      no     4789     yes  yes   \n",
       "2   35   management   single   tertiary      no     1350     yes   no   \n",
       "3   30   management  married   tertiary      no     1476     yes  yes   \n",
       "4   59  blue-collar  married  secondary      no        0     yes   no   \n",
       "\n",
       "    contact  day month  duration  campaign  pdays  previous poutcome   y  \n",
       "0  cellular   19   oct        79         1     -1         0  unknown  no  \n",
       "1  cellular   11   may       220         1    339         4  failure  no  \n",
       "2  cellular   16   apr       185         1    330         1  failure  no  \n",
       "3   unknown    3   jun       199         4     -1         0  unknown  no  \n",
       "4   unknown    5   may       226         1     -1         0  unknown  no  "
      ]
     },
     "execution_count": 1,
     "metadata": {},
     "output_type": "execute_result"
    }
   ],
   "source": [
    "## Importing libraries\n",
    "import pandas as pd\n",
    "import matplotlib.pyplot as plt\n",
    "import statsmodels.formula.api as smf\n",
    "import numpy as np\n",
    "from sklearn.preprocessing import MinMaxScaler\n",
    "from sklearn.linear_model import LogisticRegression\n",
    "from sklearn.model_selection import train_test_split\n",
    "from sklearn.metrics import confusion_matrix, accuracy_score, recall_score\n",
    "from sklearn.ensemble import RandomForestClassifier\n",
    "from sklearn.svm import SVC\n",
    "import matplotlib.pyplot as plt\n",
    "from sklearn.decomposition import PCA\n",
    "\n",
    "## Reading the csv file\n",
    "project = pd.read_csv('bank.csv',sep = ';')\n",
    "\n",
    "## Here we print the first 5 observations\n",
    "project.head()"
   ]
  },
  {
   "cell_type": "code",
   "execution_count": 17,
   "metadata": {
    "scrolled": true
   },
   "outputs": [
    {
     "data": {
      "text/plain": [
       "(4521, 17)"
      ]
     },
     "execution_count": 17,
     "metadata": {},
     "output_type": "execute_result"
    }
   ],
   "source": [
    "## number of rows and columns\n",
    "project.shape"
   ]
  },
  {
   "cell_type": "code",
   "execution_count": 2,
   "metadata": {
    "scrolled": false
   },
   "outputs": [
    {
     "data": {
      "text/html": [
       "<div>\n",
       "<style scoped>\n",
       "    .dataframe tbody tr th:only-of-type {\n",
       "        vertical-align: middle;\n",
       "    }\n",
       "\n",
       "    .dataframe tbody tr th {\n",
       "        vertical-align: top;\n",
       "    }\n",
       "\n",
       "    .dataframe thead th {\n",
       "        text-align: right;\n",
       "    }\n",
       "</style>\n",
       "<table border=\"1\" class=\"dataframe\">\n",
       "  <thead>\n",
       "    <tr style=\"text-align: right;\">\n",
       "      <th></th>\n",
       "      <th>age</th>\n",
       "      <th>job</th>\n",
       "      <th>marital</th>\n",
       "      <th>education</th>\n",
       "      <th>default</th>\n",
       "      <th>balance</th>\n",
       "      <th>housing</th>\n",
       "      <th>loan</th>\n",
       "      <th>contact</th>\n",
       "      <th>day</th>\n",
       "      <th>...</th>\n",
       "      <th>duration</th>\n",
       "      <th>campaign</th>\n",
       "      <th>pdays</th>\n",
       "      <th>previous</th>\n",
       "      <th>poutcome</th>\n",
       "      <th>y</th>\n",
       "      <th>Deposit</th>\n",
       "      <th>Default</th>\n",
       "      <th>Loan</th>\n",
       "      <th>Housing</th>\n",
       "    </tr>\n",
       "  </thead>\n",
       "  <tbody>\n",
       "    <tr>\n",
       "      <th>0</th>\n",
       "      <td>30</td>\n",
       "      <td>unemployed</td>\n",
       "      <td>married</td>\n",
       "      <td>primary</td>\n",
       "      <td>no</td>\n",
       "      <td>1787</td>\n",
       "      <td>no</td>\n",
       "      <td>no</td>\n",
       "      <td>cellular</td>\n",
       "      <td>19</td>\n",
       "      <td>...</td>\n",
       "      <td>79</td>\n",
       "      <td>1</td>\n",
       "      <td>-1</td>\n",
       "      <td>0</td>\n",
       "      <td>unknown</td>\n",
       "      <td>no</td>\n",
       "      <td>0</td>\n",
       "      <td>0</td>\n",
       "      <td>0</td>\n",
       "      <td>0</td>\n",
       "    </tr>\n",
       "    <tr>\n",
       "      <th>1</th>\n",
       "      <td>33</td>\n",
       "      <td>services</td>\n",
       "      <td>married</td>\n",
       "      <td>secondary</td>\n",
       "      <td>no</td>\n",
       "      <td>4789</td>\n",
       "      <td>yes</td>\n",
       "      <td>yes</td>\n",
       "      <td>cellular</td>\n",
       "      <td>11</td>\n",
       "      <td>...</td>\n",
       "      <td>220</td>\n",
       "      <td>1</td>\n",
       "      <td>339</td>\n",
       "      <td>4</td>\n",
       "      <td>failure</td>\n",
       "      <td>no</td>\n",
       "      <td>0</td>\n",
       "      <td>0</td>\n",
       "      <td>1</td>\n",
       "      <td>1</td>\n",
       "    </tr>\n",
       "    <tr>\n",
       "      <th>2</th>\n",
       "      <td>35</td>\n",
       "      <td>management</td>\n",
       "      <td>single</td>\n",
       "      <td>tertiary</td>\n",
       "      <td>no</td>\n",
       "      <td>1350</td>\n",
       "      <td>yes</td>\n",
       "      <td>no</td>\n",
       "      <td>cellular</td>\n",
       "      <td>16</td>\n",
       "      <td>...</td>\n",
       "      <td>185</td>\n",
       "      <td>1</td>\n",
       "      <td>330</td>\n",
       "      <td>1</td>\n",
       "      <td>failure</td>\n",
       "      <td>no</td>\n",
       "      <td>0</td>\n",
       "      <td>0</td>\n",
       "      <td>0</td>\n",
       "      <td>1</td>\n",
       "    </tr>\n",
       "    <tr>\n",
       "      <th>3</th>\n",
       "      <td>30</td>\n",
       "      <td>management</td>\n",
       "      <td>married</td>\n",
       "      <td>tertiary</td>\n",
       "      <td>no</td>\n",
       "      <td>1476</td>\n",
       "      <td>yes</td>\n",
       "      <td>yes</td>\n",
       "      <td>unknown</td>\n",
       "      <td>3</td>\n",
       "      <td>...</td>\n",
       "      <td>199</td>\n",
       "      <td>4</td>\n",
       "      <td>-1</td>\n",
       "      <td>0</td>\n",
       "      <td>unknown</td>\n",
       "      <td>no</td>\n",
       "      <td>0</td>\n",
       "      <td>0</td>\n",
       "      <td>1</td>\n",
       "      <td>1</td>\n",
       "    </tr>\n",
       "    <tr>\n",
       "      <th>4</th>\n",
       "      <td>59</td>\n",
       "      <td>blue-collar</td>\n",
       "      <td>married</td>\n",
       "      <td>secondary</td>\n",
       "      <td>no</td>\n",
       "      <td>0</td>\n",
       "      <td>yes</td>\n",
       "      <td>no</td>\n",
       "      <td>unknown</td>\n",
       "      <td>5</td>\n",
       "      <td>...</td>\n",
       "      <td>226</td>\n",
       "      <td>1</td>\n",
       "      <td>-1</td>\n",
       "      <td>0</td>\n",
       "      <td>unknown</td>\n",
       "      <td>no</td>\n",
       "      <td>0</td>\n",
       "      <td>0</td>\n",
       "      <td>0</td>\n",
       "      <td>1</td>\n",
       "    </tr>\n",
       "  </tbody>\n",
       "</table>\n",
       "<p>5 rows × 21 columns</p>\n",
       "</div>"
      ],
      "text/plain": [
       "   age          job  marital  education default  balance housing loan  \\\n",
       "0   30   unemployed  married    primary      no     1787      no   no   \n",
       "1   33     services  married  secondary      no     4789     yes  yes   \n",
       "2   35   management   single   tertiary      no     1350     yes   no   \n",
       "3   30   management  married   tertiary      no     1476     yes  yes   \n",
       "4   59  blue-collar  married  secondary      no        0     yes   no   \n",
       "\n",
       "    contact  day  ... duration  campaign  pdays  previous  poutcome   y  \\\n",
       "0  cellular   19  ...       79         1     -1         0   unknown  no   \n",
       "1  cellular   11  ...      220         1    339         4   failure  no   \n",
       "2  cellular   16  ...      185         1    330         1   failure  no   \n",
       "3   unknown    3  ...      199         4     -1         0   unknown  no   \n",
       "4   unknown    5  ...      226         1     -1         0   unknown  no   \n",
       "\n",
       "  Deposit  Default  Loan  Housing  \n",
       "0       0        0     0        0  \n",
       "1       0        0     1        1  \n",
       "2       0        0     0        1  \n",
       "3       0        0     1        1  \n",
       "4       0        0     0        1  \n",
       "\n",
       "[5 rows x 21 columns]"
      ]
     },
     "execution_count": 2,
     "metadata": {},
     "output_type": "execute_result"
    }
   ],
   "source": [
    "## Converting variables\n",
    "project['Deposit'] = np.where(project['y'] == 'yes', 1, 0)\n",
    "\n",
    "project['Default'] = np.where(project['default'] == 'yes', 1, 0)\n",
    "\n",
    "project['Loan'] = np.where(project['loan'] == 'yes', 1, 0)\n",
    "\n",
    "project['Housing'] = np.where(project['housing'] == 'yes', 1, 0)\n",
    "\n",
    "## Visualizing the changes \n",
    "project.head()"
   ]
  },
  {
   "cell_type": "markdown",
   "metadata": {},
   "source": [
    "# Standardizing input variables"
   ]
  },
  {
   "cell_type": "code",
   "execution_count": 3,
   "metadata": {},
   "outputs": [],
   "source": [
    "## Defining the input variables\n",
    "X=project[['age', 'balance', 'day', 'duration', 'campaign', 'pdays', 'previous', \n",
    "           'Default', 'Loan', 'Housing']]\n",
    "## Standardizing the input variables\n",
    "scaler = MinMaxScaler(feature_range = (-1, 1)).fit(X)\n",
    "X = scaler.transform(X)                    "
   ]
  },
  {
   "cell_type": "markdown",
   "metadata": {},
   "source": [
    "# Linear regression model"
   ]
  },
  {
   "cell_type": "code",
   "execution_count": 4,
   "metadata": {
    "scrolled": false
   },
   "outputs": [
    {
     "name": "stderr",
     "output_type": "stream",
     "text": [
      "C:\\Users\\giraf\\Anaconda3\\envs\\Python_and_R\\lib\\site-packages\\sklearn\\linear_model\\logistic.py:432: FutureWarning: Default solver will be changed to 'lbfgs' in 0.22. Specify a solver to silence this warning.\n",
      "  FutureWarning)\n"
     ]
    }
   ],
   "source": [
    "## Defining the target variable\n",
    "Y=project['Deposit']\n",
    "\n",
    "## split data into train (80%) and test (20%)\n",
    "X_train, X_test, Y_train, Y_test = train_test_split(X, Y, \n",
    "    test_size = 0.20,random_state = None, stratify = Y)\n",
    "\n",
    "## Building the logistic regression model\n",
    "logit_md = LogisticRegression().fit(X_train, Y_train)\n",
    "\n",
    "## Predicting on test dataset\n",
    "logit_preds = logit_md.predict(X_test)\n",
    "logit_preds = logit_preds[:, ]\n",
    "## Change to 0-1 using cutoff = 0.3\n",
    "logit_preds = np.where(logit_preds > 0.3, 1, 0)"
   ]
  },
  {
   "cell_type": "markdown",
   "metadata": {},
   "source": [
    "# Random Forest model"
   ]
  },
  {
   "cell_type": "code",
   "execution_count": 5,
   "metadata": {
    "scrolled": true
   },
   "outputs": [],
   "source": [
    "## Building the random forest model\n",
    "RF_md = RandomForestClassifier(n_estimators = 500).fit(X_train, Y_train)\n",
    "## Predicting on test dataset\n",
    "RF_preds = RF_md.predict_proba(X_test)\n",
    "RF_preds = RF_preds[:, 1]\n",
    "## Change to 0-1 using cutoff = 0.3\n",
    "RF_preds = np.where(RF_preds > 0.3, 1, 0)"
   ]
  },
  {
   "cell_type": "markdown",
   "metadata": {},
   "source": [
    "# SVM model"
   ]
  },
  {
   "cell_type": "code",
   "execution_count": 7,
   "metadata": {
    "scrolled": true
   },
   "outputs": [],
   "source": [
    "## Building the support vector machine model\n",
    "SVM_md = SVC(kernel = 'linear', probability = True).fit(X_train, Y_train)\n",
    "\n",
    "## Predicting on test dataset\n",
    "SVM_preds = SVM_md.predict_proba(X_test)\n",
    "SVM_preds = SVM_preds[:, 1]\n",
    "\n",
    "## Change to 0-1 using cutoff = 0.3\n",
    "SVM_preds = np.where(SVM_preds > 0.3, 1, 0)"
   ]
  },
  {
   "cell_type": "markdown",
   "metadata": {},
   "source": [
    "## Printing model results for comparison"
   ]
  },
  {
   "cell_type": "code",
   "execution_count": 8,
   "metadata": {
    "scrolled": true
   },
   "outputs": [
    {
     "name": "stdout",
     "output_type": "stream",
     "text": [
      "The accuracy of random forest is: 0.8906077348066298\n",
      "The recall of random forest is: 0.5961538461538461\n",
      "\n",
      "The accuracy of SVM is: 0.8629834254143647\n",
      "The recall of SVM is: 0.3076923076923077\n",
      "\n",
      "The accuracy of logistic regression is: 0.8828729281767956\n",
      "The recall of logistic regression is: 0.1346153846153846\n"
     ]
    }
   ],
   "source": [
    "space = ''\n",
    "print('The accuracy of random forest is:', accuracy_score(Y_test, RF_preds))\n",
    "print('The recall of random forest is:', recall_score(Y_test, RF_preds))\n",
    "print(space)\n",
    "print('The accuracy of SVM is:', accuracy_score(Y_test, SVM_preds))\n",
    "print('The recall of SVM is:', recall_score(Y_test, SVM_preds))\n",
    "print(space)\n",
    "print('The accuracy of logistic regression is:', accuracy_score(Y_test, logit_preds))\n",
    "print('The recall of logistic regression is:', recall_score(Y_test, logit_preds))"
   ]
  },
  {
   "cell_type": "markdown",
   "metadata": {},
   "source": [
    "## Creating age_group variable to better analyze age ranges"
   ]
  },
  {
   "cell_type": "code",
   "execution_count": 24,
   "metadata": {
    "scrolled": true
   },
   "outputs": [
    {
     "data": {
      "text/html": [
       "<div>\n",
       "<style scoped>\n",
       "    .dataframe tbody tr th:only-of-type {\n",
       "        vertical-align: middle;\n",
       "    }\n",
       "\n",
       "    .dataframe tbody tr th {\n",
       "        vertical-align: top;\n",
       "    }\n",
       "\n",
       "    .dataframe thead th {\n",
       "        text-align: right;\n",
       "    }\n",
       "</style>\n",
       "<table border=\"1\" class=\"dataframe\">\n",
       "  <thead>\n",
       "    <tr style=\"text-align: right;\">\n",
       "      <th></th>\n",
       "      <th></th>\n",
       "      <th>Deposit</th>\n",
       "    </tr>\n",
       "    <tr>\n",
       "      <th>Age_group</th>\n",
       "      <th>Deposit</th>\n",
       "      <th></th>\n",
       "    </tr>\n",
       "  </thead>\n",
       "  <tbody>\n",
       "    <tr>\n",
       "      <th rowspan=\"2\" valign=\"top\">70+</th>\n",
       "      <th>0</th>\n",
       "      <td>37</td>\n",
       "    </tr>\n",
       "    <tr>\n",
       "      <th>1</th>\n",
       "      <td>24</td>\n",
       "    </tr>\n",
       "    <tr>\n",
       "      <th rowspan=\"2\" valign=\"top\">[17, 30)</th>\n",
       "      <th>0</th>\n",
       "      <td>408</td>\n",
       "    </tr>\n",
       "    <tr>\n",
       "      <th>1</th>\n",
       "      <td>74</td>\n",
       "    </tr>\n",
       "    <tr>\n",
       "      <th rowspan=\"2\" valign=\"top\">[30, 40)</th>\n",
       "      <th>0</th>\n",
       "      <td>1623</td>\n",
       "    </tr>\n",
       "    <tr>\n",
       "      <th>1</th>\n",
       "      <td>185</td>\n",
       "    </tr>\n",
       "    <tr>\n",
       "      <th rowspan=\"2\" valign=\"top\">[40, 50)</th>\n",
       "      <th>0</th>\n",
       "      <td>1080</td>\n",
       "    </tr>\n",
       "    <tr>\n",
       "      <th>1</th>\n",
       "      <td>123</td>\n",
       "    </tr>\n",
       "    <tr>\n",
       "      <th rowspan=\"2\" valign=\"top\">[50, 60)</th>\n",
       "      <th>0</th>\n",
       "      <td>770</td>\n",
       "    </tr>\n",
       "    <tr>\n",
       "      <th>1</th>\n",
       "      <td>84</td>\n",
       "    </tr>\n",
       "    <tr>\n",
       "      <th rowspan=\"2\" valign=\"top\">[60, 70)</th>\n",
       "      <th>0</th>\n",
       "      <td>82</td>\n",
       "    </tr>\n",
       "    <tr>\n",
       "      <th>1</th>\n",
       "      <td>31</td>\n",
       "    </tr>\n",
       "  </tbody>\n",
       "</table>\n",
       "</div>"
      ],
      "text/plain": [
       "                   Deposit\n",
       "Age_group Deposit         \n",
       "70+       0             37\n",
       "          1             24\n",
       "[17, 30)  0            408\n",
       "          1             74\n",
       "[30, 40)  0           1623\n",
       "          1            185\n",
       "[40, 50)  0           1080\n",
       "          1            123\n",
       "[50, 60)  0            770\n",
       "          1             84\n",
       "[60, 70)  0             82\n",
       "          1             31"
      ]
     },
     "execution_count": 24,
     "metadata": {},
     "output_type": "execute_result"
    }
   ],
   "source": [
    "project['Age_group'] = np.where(project.age < 30, '[17, 30)',\n",
    "np.where((project.age >= 30) &(project.age < 40), '[30, 40)',\n",
    "np.where((project.age >= 40) &(project.age < 50), '[40, 50)',\n",
    "np.where((project.age >= 50) &(project.age < 60), '[50, 60)',\n",
    "np.where((project.age >= 60) &(project.age < 70), '[60, 70)', '70+')))))\n",
    "project.groupby(['Age_group', 'Deposit']).agg({'Deposit': 'count'})"
   ]
  },
  {
   "cell_type": "markdown",
   "metadata": {},
   "source": [
    "## Visualizing age_group conversion %"
   ]
  },
  {
   "cell_type": "code",
   "execution_count": 25,
   "metadata": {},
   "outputs": [
    {
     "data": {
      "image/png": "[encoded data removed]",
      "text/plain": [
       "<Figure size 432x288 with 1 Axes>"
      ]
     },
     "metadata": {},
     "output_type": "display_data"
    }
   ],
   "source": [
    "## Here we manually create the data\n",
    "labels = ('[17, 30)', '[30, 40)', '[40, 50)', '[50, 60)', '[60, 70)', '70+')\n",
    "sizes = (928, 1913, 1063, 785, 365, 235)\n",
    "## Here we declare the colors\n",
    "colors = ['gold', 'yellowgreen', 'lightcoral', 'lightskyblue','grey','red']\n",
    "\n",
    "# Here we create the pie chart\n",
    "plt.pie(sizes, labels=labels, autopct = '%1.1f%%', colors = colors)\n",
    "plt.title('Age group percentage for deposit = Yes')\n",
    "plt.show();"
   ]
  },
  {
   "cell_type": "markdown",
   "metadata": {},
   "source": [
    "## Visualizing duration range to check for outliers"
   ]
  },
  {
   "cell_type": "code",
   "execution_count": 26,
   "metadata": {
    "scrolled": true
   },
   "outputs": [
    {
     "data": {
      "image/png": "[encoded data removed]",
      "text/plain": [
       "<Figure size 432x288 with 1 Axes>"
      ]
     },
     "metadata": {
      "needs_background": "light"
     },
     "output_type": "display_data"
    }
   ],
   "source": [
    "plt.hist(project.duration, color = 'blue')\n",
    "plt.show();"
   ]
  },
  {
   "cell_type": "markdown",
   "metadata": {},
   "source": [
    "## Creating duration_group to better analyze duration ranges"
   ]
  },
  {
   "cell_type": "code",
   "execution_count": 27,
   "metadata": {
    "scrolled": false
   },
   "outputs": [
    {
     "data": {
      "text/html": [
       "<div>\n",
       "<style scoped>\n",
       "    .dataframe tbody tr th:only-of-type {\n",
       "        vertical-align: middle;\n",
       "    }\n",
       "\n",
       "    .dataframe tbody tr th {\n",
       "        vertical-align: top;\n",
       "    }\n",
       "\n",
       "    .dataframe thead th {\n",
       "        text-align: right;\n",
       "    }\n",
       "</style>\n",
       "<table border=\"1\" class=\"dataframe\">\n",
       "  <thead>\n",
       "    <tr style=\"text-align: right;\">\n",
       "      <th></th>\n",
       "      <th></th>\n",
       "      <th>Deposit</th>\n",
       "    </tr>\n",
       "    <tr>\n",
       "      <th>Duration_group</th>\n",
       "      <th>Deposit</th>\n",
       "      <th></th>\n",
       "    </tr>\n",
       "  </thead>\n",
       "  <tbody>\n",
       "    <tr>\n",
       "      <th rowspan=\"2\" valign=\"top\">1000+</th>\n",
       "      <th>0</th>\n",
       "      <td>46</td>\n",
       "    </tr>\n",
       "    <tr>\n",
       "      <th>1</th>\n",
       "      <td>61</td>\n",
       "    </tr>\n",
       "    <tr>\n",
       "      <th rowspan=\"2\" valign=\"top\">[0-250)</th>\n",
       "      <th>0</th>\n",
       "      <td>2798</td>\n",
       "    </tr>\n",
       "    <tr>\n",
       "      <th>1</th>\n",
       "      <td>116</td>\n",
       "    </tr>\n",
       "    <tr>\n",
       "      <th rowspan=\"2\" valign=\"top\">[250-500)</th>\n",
       "      <th>0</th>\n",
       "      <td>837</td>\n",
       "    </tr>\n",
       "    <tr>\n",
       "      <th>1</th>\n",
       "      <td>173</td>\n",
       "    </tr>\n",
       "    <tr>\n",
       "      <th rowspan=\"2\" valign=\"top\">[500-750)</th>\n",
       "      <th>0</th>\n",
       "      <td>255</td>\n",
       "    </tr>\n",
       "    <tr>\n",
       "      <th>1</th>\n",
       "      <td>100</td>\n",
       "    </tr>\n",
       "    <tr>\n",
       "      <th rowspan=\"2\" valign=\"top\">[750-1000)</th>\n",
       "      <th>0</th>\n",
       "      <td>64</td>\n",
       "    </tr>\n",
       "    <tr>\n",
       "      <th>1</th>\n",
       "      <td>71</td>\n",
       "    </tr>\n",
       "  </tbody>\n",
       "</table>\n",
       "</div>"
      ],
      "text/plain": [
       "                        Deposit\n",
       "Duration_group Deposit         \n",
       "1000+          0             46\n",
       "               1             61\n",
       "[0-250)        0           2798\n",
       "               1            116\n",
       "[250-500)      0            837\n",
       "               1            173\n",
       "[500-750)      0            255\n",
       "               1            100\n",
       "[750-1000)     0             64\n",
       "               1             71"
      ]
     },
     "execution_count": 27,
     "metadata": {},
     "output_type": "execute_result"
    }
   ],
   "source": [
    "project['Duration_group'] = np.where(project.duration < 250, '[0-250)',\n",
    "np.where((project.duration >= 250) &(project.duration < 500), '[250-500)',\n",
    "np.where((project.duration >= 500) &(project.duration < 750), '[500-750)',\n",
    "np.where((project.duration >= 750) &(project.duration < 1000), '[750-1000)', '1000+'))))\n",
    "project.groupby(['Duration_group', 'Deposit']).agg({'Deposit': 'count'})"
   ]
  },
  {
   "cell_type": "markdown",
   "metadata": {},
   "source": [
    "## Visualizing duration groups that converted the most"
   ]
  },
  {
   "cell_type": "code",
   "execution_count": 28,
   "metadata": {
    "scrolled": false
   },
   "outputs": [
    {
     "data": {
      "image/png": "[encoded data removed]",
      "text/plain": [
       "<Figure size 432x288 with 1 Axes>"
      ]
     },
     "metadata": {},
     "output_type": "display_data"
    }
   ],
   "source": [
    "## Here we manually create the data\n",
    "labels = ('[0-250)','[250-500)','[500-750)','[750-1000)', '1000+')\n",
    "sizes = (1369, 1638, 1045, 601, 636)\n",
    "## Here we declare the colors\n",
    "colors = ['gold', 'yellowgreen', 'lightcoral', 'lightskyblue','red']\n",
    "\n",
    "# Here we create the pie chart\n",
    "plt.pie(sizes, labels=labels, autopct = '%1.1f%%', colors = colors)\n",
    "plt.title('Duration group percentage for deposit = Yes')\n",
    "plt.show();"
   ]
  },
  {
   "cell_type": "markdown",
   "metadata": {},
   "source": [
    "## Visualizing marital status and conversion"
   ]
  },
  {
   "cell_type": "code",
   "execution_count": 29,
   "metadata": {},
   "outputs": [
    {
     "data": {
      "text/html": [
       "<div>\n",
       "<style scoped>\n",
       "    .dataframe tbody tr th:only-of-type {\n",
       "        vertical-align: middle;\n",
       "    }\n",
       "\n",
       "    .dataframe tbody tr th {\n",
       "        vertical-align: top;\n",
       "    }\n",
       "\n",
       "    .dataframe thead th {\n",
       "        text-align: right;\n",
       "    }\n",
       "</style>\n",
       "<table border=\"1\" class=\"dataframe\">\n",
       "  <thead>\n",
       "    <tr style=\"text-align: right;\">\n",
       "      <th></th>\n",
       "      <th></th>\n",
       "      <th>Deposit</th>\n",
       "    </tr>\n",
       "    <tr>\n",
       "      <th>marital</th>\n",
       "      <th>Deposit</th>\n",
       "      <th></th>\n",
       "    </tr>\n",
       "  </thead>\n",
       "  <tbody>\n",
       "    <tr>\n",
       "      <th rowspan=\"2\" valign=\"top\">divorced</th>\n",
       "      <th>0</th>\n",
       "      <td>451</td>\n",
       "    </tr>\n",
       "    <tr>\n",
       "      <th>1</th>\n",
       "      <td>77</td>\n",
       "    </tr>\n",
       "    <tr>\n",
       "      <th rowspan=\"2\" valign=\"top\">married</th>\n",
       "      <th>0</th>\n",
       "      <td>2520</td>\n",
       "    </tr>\n",
       "    <tr>\n",
       "      <th>1</th>\n",
       "      <td>277</td>\n",
       "    </tr>\n",
       "    <tr>\n",
       "      <th rowspan=\"2\" valign=\"top\">single</th>\n",
       "      <th>0</th>\n",
       "      <td>1029</td>\n",
       "    </tr>\n",
       "    <tr>\n",
       "      <th>1</th>\n",
       "      <td>167</td>\n",
       "    </tr>\n",
       "  </tbody>\n",
       "</table>\n",
       "</div>"
      ],
      "text/plain": [
       "                  Deposit\n",
       "marital  Deposit         \n",
       "divorced 0            451\n",
       "         1             77\n",
       "married  0           2520\n",
       "         1            277\n",
       "single   0           1029\n",
       "         1            167"
      ]
     },
     "execution_count": 29,
     "metadata": {},
     "output_type": "execute_result"
    }
   ],
   "source": [
    "project.groupby(['marital', 'Deposit']).agg({'Deposit': 'count'})"
   ]
  },
  {
   "cell_type": "code",
   "execution_count": 30,
   "metadata": {
    "scrolled": true
   },
   "outputs": [
    {
     "data": {
      "image/png": "[encoded data removed]",
      "text/plain": [
       "<Figure size 432x288 with 1 Axes>"
      ]
     },
     "metadata": {},
     "output_type": "display_data"
    }
   ],
   "source": [
    "## Here we manually create the data\n",
    "labels = ('Divorced','Married','Single')\n",
    "sizes = (622,2755,1912)\n",
    "## Here we declare the colors\n",
    "colors = ['blue', 'yellow','green']\n",
    "\n",
    "# Here we create the pie chart\n",
    "plt.pie(sizes, labels=labels, autopct = '%1.1f%%', colors = colors)\n",
    "plt.title('Marital status percentage for deposit = Yes')\n",
    "plt.show();"
   ]
  },
  {
   "cell_type": "markdown",
   "metadata": {},
   "source": [
    "## Visualizing education level and deposit"
   ]
  },
  {
   "cell_type": "code",
   "execution_count": 31,
   "metadata": {
    "scrolled": true
   },
   "outputs": [
    {
     "data": {
      "text/html": [
       "<div>\n",
       "<style scoped>\n",
       "    .dataframe tbody tr th:only-of-type {\n",
       "        vertical-align: middle;\n",
       "    }\n",
       "\n",
       "    .dataframe tbody tr th {\n",
       "        vertical-align: top;\n",
       "    }\n",
       "\n",
       "    .dataframe thead th {\n",
       "        text-align: right;\n",
       "    }\n",
       "</style>\n",
       "<table border=\"1\" class=\"dataframe\">\n",
       "  <thead>\n",
       "    <tr style=\"text-align: right;\">\n",
       "      <th></th>\n",
       "      <th></th>\n",
       "      <th>Deposit</th>\n",
       "    </tr>\n",
       "    <tr>\n",
       "      <th>education</th>\n",
       "      <th>Deposit</th>\n",
       "      <th></th>\n",
       "    </tr>\n",
       "  </thead>\n",
       "  <tbody>\n",
       "    <tr>\n",
       "      <th rowspan=\"2\" valign=\"top\">primary</th>\n",
       "      <th>0</th>\n",
       "      <td>614</td>\n",
       "    </tr>\n",
       "    <tr>\n",
       "      <th>1</th>\n",
       "      <td>64</td>\n",
       "    </tr>\n",
       "    <tr>\n",
       "      <th rowspan=\"2\" valign=\"top\">secondary</th>\n",
       "      <th>0</th>\n",
       "      <td>2061</td>\n",
       "    </tr>\n",
       "    <tr>\n",
       "      <th>1</th>\n",
       "      <td>245</td>\n",
       "    </tr>\n",
       "    <tr>\n",
       "      <th rowspan=\"2\" valign=\"top\">tertiary</th>\n",
       "      <th>0</th>\n",
       "      <td>1157</td>\n",
       "    </tr>\n",
       "    <tr>\n",
       "      <th>1</th>\n",
       "      <td>193</td>\n",
       "    </tr>\n",
       "    <tr>\n",
       "      <th rowspan=\"2\" valign=\"top\">unknown</th>\n",
       "      <th>0</th>\n",
       "      <td>168</td>\n",
       "    </tr>\n",
       "    <tr>\n",
       "      <th>1</th>\n",
       "      <td>19</td>\n",
       "    </tr>\n",
       "  </tbody>\n",
       "</table>\n",
       "</div>"
      ],
      "text/plain": [
       "                   Deposit\n",
       "education Deposit         \n",
       "primary   0            614\n",
       "          1             64\n",
       "secondary 0           2061\n",
       "          1            245\n",
       "tertiary  0           1157\n",
       "          1            193\n",
       "unknown   0            168\n",
       "          1             19"
      ]
     },
     "execution_count": 31,
     "metadata": {},
     "output_type": "execute_result"
    }
   ],
   "source": [
    "project.groupby(['education', 'Deposit']).agg({'Deposit': 'count'})"
   ]
  },
  {
   "cell_type": "code",
   "execution_count": 32,
   "metadata": {
    "scrolled": true
   },
   "outputs": [
    {
     "data": {
      "text/plain": [
       "Text(0.5, 1.0, 'Education level percentage for deposit = Yes')"
      ]
     },
     "execution_count": 32,
     "metadata": {},
     "output_type": "execute_result"
    },
    {
     "data": {
      "image/png": "[encoded data removed]",
      "text/plain": [
       "<Figure size 432x288 with 1 Axes>"
      ]
     },
     "metadata": {},
     "output_type": "display_data"
    }
   ],
   "source": [
    "## Here we manually create the data\n",
    "labels = ('Primary','Secondary','Terctiary')\n",
    "sizes = (591,2150,1996)\n",
    "## Here we declare the colors\n",
    "colors = ['blue', 'yellow','green']\n",
    "\n",
    "# Here we create the pie chart\n",
    "plt.pie(sizes, labels=labels, autopct = '%1.1f%%', colors = colors)\n",
    "plt.title('Education level percentage for deposit = Yes')"
   ]
  },
  {
   "cell_type": "markdown",
   "metadata": {},
   "source": [
    "## Calculating silhouette to find out the best number of customers"
   ]
  },
  {
   "cell_type": "code",
   "execution_count": 9,
   "metadata": {},
   "outputs": [
    {
     "data": {
      "image/png": "[encoded data removed]",
      "text/plain": [
       "<Figure size 432x288 with 1 Axes>"
      ]
     },
     "metadata": {
      "needs_background": "light"
     },
     "output_type": "display_data"
    }
   ],
   "source": [
    "## Here we define a list to store the average silhouette scores\n",
    "avg_silhouette = []\n",
    "\n",
    "## Here we define the range of values for the number of cluster\n",
    "krange = list(range(2, 16))\n",
    "\n",
    "## Importing libraries \n",
    "from sklearn.cluster import KMeans\n",
    "from sklearn.metrics import silhouette_score ## function that calculates silhouette score\n",
    "\n",
    "## Here we start looping\n",
    "for i in krange:\n",
    "    \n",
    "    ## First we define the k-means model\n",
    "    cluster_md = KMeans(n_clusters = i, n_init = 20)\n",
    "    cluster_assignments = cluster_md.fit_predict(X)\n",
    "    \n",
    "    ## Here we calculate the silhouette score\n",
    "    silhouette_avg = silhouette_score(X, cluster_assignments)\n",
    "    \n",
    "    ## Storing the silhouette score\n",
    "    avg_silhouette.append(silhouette_avg)\n",
    "    \n",
    "## Importing matplotlib\n",
    "import matplotlib.pyplot as plt\n",
    "\n",
    "## Visualize the silhouette scores for the different number of clusters\n",
    "plt.plot(krange, avg_silhouette)\n",
    "plt.xlabel('Number of clusters (k)')\n",
    "plt.ylabel('Silhouette Score')\n",
    "plt.grid()"
   ]
  },
  {
   "cell_type": "markdown",
   "metadata": {},
   "source": [
    "The silhouette graph shows us that 4 clusters should be used for this dataset."
   ]
  },
  {
   "cell_type": "markdown",
   "metadata": {},
   "source": [
    "## Performing PCA"
   ]
  },
  {
   "cell_type": "code",
   "execution_count": 10,
   "metadata": {},
   "outputs": [
    {
     "data": {
      "text/plain": [
       "Text(0, 0.5, 'Second Component')"
      ]
     },
     "execution_count": 10,
     "metadata": {},
     "output_type": "execute_result"
    },
    {
     "data": {
      "image/png": "[encoded data removed]",
      "text/plain": [
       "<Figure size 432x288 with 1 Axes>"
      ]
     },
     "metadata": {
      "needs_background": "light"
     },
     "output_type": "display_data"
    }
   ],
   "source": [
    "## Performing PCA\n",
    "PCA_md = PCA()\n",
    "PCA_md.fit(X)\n",
    "## Importing numpy to calculate components\n",
    "import numpy as np\n",
    "Components = pd.DataFrame(PCA_md.fit_transform(X))\n",
    "## Importing matplotlib \n",
    "import matplotlib.pyplot as plt\n",
    "\n",
    "## Plotting the first two components\n",
    "plt.plot(Components.loc[:,0], Components.loc[:,1], 'o')\n",
    "plt.xlabel('First Component')\n",
    "plt.ylabel('Second Component')"
   ]
  },
  {
   "cell_type": "markdown",
   "metadata": {},
   "source": [
    "## Visualizing clusters¶"
   ]
  },
  {
   "cell_type": "code",
   "execution_count": 11,
   "metadata": {
    "scrolled": true
   },
   "outputs": [
    {
     "data": {
      "image/png": "[encoded data removed]",
      "text/plain": [
       "<Figure size 432x288 with 1 Axes>"
      ]
     },
     "metadata": {
      "needs_background": "light"
     },
     "output_type": "display_data"
    }
   ],
   "source": [
    "## Performing clustering\n",
    "customers_cluster = KMeans(n_clusters = 4, n_init = 20)\n",
    "customers_cluster.fit(X)\n",
    "## Appending cluster labels\n",
    "project['cluster'] = customers_cluster.labels_\n",
    "Components['cluster'] = customers_cluster.labels_\n",
    "## Visualizing data with clusters\n",
    "colors = ['blue', 'red', 'green','yellow']\n",
    "\n",
    "for c in project['cluster'].unique():\n",
    "    temp = Components[Components['cluster'] == c]\n",
    "    plt.scatter(temp[0], temp[1], color = colors[c])"
   ]
  },
  {
   "cell_type": "code",
   "execution_count": 12,
   "metadata": {},
   "outputs": [],
   "source": [
    "## Here we create a column for each cluster \n",
    "project['cluster_1'] = project['cluster'] == 0\n",
    "project['cluster_2'] = project['cluster'] == 1\n",
    "project['cluster_3'] = project['cluster'] == 2\n",
    "project['cluster_4'] = project['cluster'] == 3"
   ]
  },
  {
   "cell_type": "markdown",
   "metadata": {},
   "source": [
    "## Visualizing the cluster numbers that converted the most"
   ]
  },
  {
   "cell_type": "code",
   "execution_count": 13,
   "metadata": {
    "scrolled": false
   },
   "outputs": [
    {
     "data": {
      "text/html": [
       "<div>\n",
       "<style scoped>\n",
       "    .dataframe tbody tr th:only-of-type {\n",
       "        vertical-align: middle;\n",
       "    }\n",
       "\n",
       "    .dataframe tbody tr th {\n",
       "        vertical-align: top;\n",
       "    }\n",
       "\n",
       "    .dataframe thead th {\n",
       "        text-align: right;\n",
       "    }\n",
       "</style>\n",
       "<table border=\"1\" class=\"dataframe\">\n",
       "  <thead>\n",
       "    <tr style=\"text-align: right;\">\n",
       "      <th></th>\n",
       "      <th></th>\n",
       "      <th>Deposit</th>\n",
       "    </tr>\n",
       "    <tr>\n",
       "      <th>cluster</th>\n",
       "      <th>Deposit</th>\n",
       "      <th></th>\n",
       "    </tr>\n",
       "  </thead>\n",
       "  <tbody>\n",
       "    <tr>\n",
       "      <th rowspan=\"2\" valign=\"top\">0</th>\n",
       "      <th>0</th>\n",
       "      <td>1958</td>\n",
       "    </tr>\n",
       "    <tr>\n",
       "      <th>1</th>\n",
       "      <td>195</td>\n",
       "    </tr>\n",
       "    <tr>\n",
       "      <th rowspan=\"2\" valign=\"top\">1</th>\n",
       "      <th>0</th>\n",
       "      <td>1394</td>\n",
       "    </tr>\n",
       "    <tr>\n",
       "      <th>1</th>\n",
       "      <td>283</td>\n",
       "    </tr>\n",
       "    <tr>\n",
       "      <th rowspan=\"2\" valign=\"top\">2</th>\n",
       "      <th>0</th>\n",
       "      <td>267</td>\n",
       "    </tr>\n",
       "    <tr>\n",
       "      <th>1</th>\n",
       "      <td>18</td>\n",
       "    </tr>\n",
       "    <tr>\n",
       "      <th rowspan=\"2\" valign=\"top\">3</th>\n",
       "      <th>0</th>\n",
       "      <td>381</td>\n",
       "    </tr>\n",
       "    <tr>\n",
       "      <th>1</th>\n",
       "      <td>25</td>\n",
       "    </tr>\n",
       "  </tbody>\n",
       "</table>\n",
       "</div>"
      ],
      "text/plain": [
       "                 Deposit\n",
       "cluster Deposit         \n",
       "0       0           1958\n",
       "        1            195\n",
       "1       0           1394\n",
       "        1            283\n",
       "2       0            267\n",
       "        1             18\n",
       "3       0            381\n",
       "        1             25"
      ]
     },
     "execution_count": 13,
     "metadata": {},
     "output_type": "execute_result"
    }
   ],
   "source": [
    "project.groupby(['cluster', 'Deposit']).agg({'Deposit': 'count'})"
   ]
  },
  {
   "cell_type": "code",
   "execution_count": 38,
   "metadata": {
    "scrolled": true
   },
   "outputs": [
    {
     "data": {
      "text/plain": [
       "Text(0.5, 1.0, 'Cluster percentage for deposit = Yes')"
      ]
     },
     "execution_count": 38,
     "metadata": {},
     "output_type": "execute_result"
    },
    {
     "data": {
      "image/png": "[encoded data removed]",
      "text/plain": [
       "<Figure size 432x288 with 1 Axes>"
      ]
     },
     "metadata": {},
     "output_type": "display_data"
    }
   ],
   "source": [
    "## Here we manually create the data\n",
    "labels = ('Cluster 1','Cluster 2','Cluster 3', 'Cluster 4')\n",
    "sizes = (1670,3135,265,219)\n",
    "## Here we declare the colors\n",
    "colors = ['blue', 'yellow','green', 'red']\n",
    "\n",
    "# Here we create the pie chart\n",
    "plt.pie(sizes, labels=labels, autopct = '%1.1f%%', colors = colors)\n",
    "plt.title('Cluster percentage for deposit = Yes')\n"
   ]
  },
  {
   "cell_type": "markdown",
   "metadata": {},
   "source": [
    "## Visualizing the customer's jobs that subscribed the most"
   ]
  },
  {
   "cell_type": "code",
   "execution_count": 14,
   "metadata": {
    "scrolled": true
   },
   "outputs": [
    {
     "data": {
      "text/html": [
       "<div>\n",
       "<style scoped>\n",
       "    .dataframe tbody tr th:only-of-type {\n",
       "        vertical-align: middle;\n",
       "    }\n",
       "\n",
       "    .dataframe tbody tr th {\n",
       "        vertical-align: top;\n",
       "    }\n",
       "\n",
       "    .dataframe thead th {\n",
       "        text-align: right;\n",
       "    }\n",
       "</style>\n",
       "<table border=\"1\" class=\"dataframe\">\n",
       "  <thead>\n",
       "    <tr style=\"text-align: right;\">\n",
       "      <th></th>\n",
       "      <th></th>\n",
       "      <th>Deposit</th>\n",
       "    </tr>\n",
       "    <tr>\n",
       "      <th>job</th>\n",
       "      <th>Deposit</th>\n",
       "      <th></th>\n",
       "    </tr>\n",
       "  </thead>\n",
       "  <tbody>\n",
       "    <tr>\n",
       "      <th rowspan=\"2\" valign=\"top\">admin.</th>\n",
       "      <th>0</th>\n",
       "      <td>420</td>\n",
       "    </tr>\n",
       "    <tr>\n",
       "      <th>1</th>\n",
       "      <td>58</td>\n",
       "    </tr>\n",
       "    <tr>\n",
       "      <th rowspan=\"2\" valign=\"top\">blue-collar</th>\n",
       "      <th>0</th>\n",
       "      <td>877</td>\n",
       "    </tr>\n",
       "    <tr>\n",
       "      <th>1</th>\n",
       "      <td>69</td>\n",
       "    </tr>\n",
       "    <tr>\n",
       "      <th rowspan=\"2\" valign=\"top\">entrepreneur</th>\n",
       "      <th>0</th>\n",
       "      <td>153</td>\n",
       "    </tr>\n",
       "    <tr>\n",
       "      <th>1</th>\n",
       "      <td>15</td>\n",
       "    </tr>\n",
       "    <tr>\n",
       "      <th rowspan=\"2\" valign=\"top\">housemaid</th>\n",
       "      <th>0</th>\n",
       "      <td>98</td>\n",
       "    </tr>\n",
       "    <tr>\n",
       "      <th>1</th>\n",
       "      <td>14</td>\n",
       "    </tr>\n",
       "    <tr>\n",
       "      <th rowspan=\"2\" valign=\"top\">management</th>\n",
       "      <th>0</th>\n",
       "      <td>838</td>\n",
       "    </tr>\n",
       "    <tr>\n",
       "      <th>1</th>\n",
       "      <td>131</td>\n",
       "    </tr>\n",
       "    <tr>\n",
       "      <th rowspan=\"2\" valign=\"top\">retired</th>\n",
       "      <th>0</th>\n",
       "      <td>176</td>\n",
       "    </tr>\n",
       "    <tr>\n",
       "      <th>1</th>\n",
       "      <td>54</td>\n",
       "    </tr>\n",
       "    <tr>\n",
       "      <th rowspan=\"2\" valign=\"top\">self-employed</th>\n",
       "      <th>0</th>\n",
       "      <td>163</td>\n",
       "    </tr>\n",
       "    <tr>\n",
       "      <th>1</th>\n",
       "      <td>20</td>\n",
       "    </tr>\n",
       "    <tr>\n",
       "      <th rowspan=\"2\" valign=\"top\">services</th>\n",
       "      <th>0</th>\n",
       "      <td>379</td>\n",
       "    </tr>\n",
       "    <tr>\n",
       "      <th>1</th>\n",
       "      <td>38</td>\n",
       "    </tr>\n",
       "    <tr>\n",
       "      <th rowspan=\"2\" valign=\"top\">student</th>\n",
       "      <th>0</th>\n",
       "      <td>65</td>\n",
       "    </tr>\n",
       "    <tr>\n",
       "      <th>1</th>\n",
       "      <td>19</td>\n",
       "    </tr>\n",
       "    <tr>\n",
       "      <th rowspan=\"2\" valign=\"top\">technician</th>\n",
       "      <th>0</th>\n",
       "      <td>685</td>\n",
       "    </tr>\n",
       "    <tr>\n",
       "      <th>1</th>\n",
       "      <td>83</td>\n",
       "    </tr>\n",
       "    <tr>\n",
       "      <th rowspan=\"2\" valign=\"top\">unemployed</th>\n",
       "      <th>0</th>\n",
       "      <td>115</td>\n",
       "    </tr>\n",
       "    <tr>\n",
       "      <th>1</th>\n",
       "      <td>13</td>\n",
       "    </tr>\n",
       "    <tr>\n",
       "      <th rowspan=\"2\" valign=\"top\">unknown</th>\n",
       "      <th>0</th>\n",
       "      <td>31</td>\n",
       "    </tr>\n",
       "    <tr>\n",
       "      <th>1</th>\n",
       "      <td>7</td>\n",
       "    </tr>\n",
       "  </tbody>\n",
       "</table>\n",
       "</div>"
      ],
      "text/plain": [
       "                       Deposit\n",
       "job           Deposit         \n",
       "admin.        0            420\n",
       "              1             58\n",
       "blue-collar   0            877\n",
       "              1             69\n",
       "entrepreneur  0            153\n",
       "              1             15\n",
       "housemaid     0             98\n",
       "              1             14\n",
       "management    0            838\n",
       "              1            131\n",
       "retired       0            176\n",
       "              1             54\n",
       "self-employed 0            163\n",
       "              1             20\n",
       "services      0            379\n",
       "              1             38\n",
       "student       0             65\n",
       "              1             19\n",
       "technician    0            685\n",
       "              1             83\n",
       "unemployed    0            115\n",
       "              1             13\n",
       "unknown       0             31\n",
       "              1              7"
      ]
     },
     "execution_count": 14,
     "metadata": {},
     "output_type": "execute_result"
    }
   ],
   "source": [
    "project.groupby(['job', 'Deposit']).agg({'Deposit': 'count'})"
   ]
  },
  {
   "cell_type": "code",
   "execution_count": 40,
   "metadata": {
    "scrolled": false
   },
   "outputs": [
    {
     "data": {
      "text/plain": [
       "Text(0, 0.5, 'Job')"
      ]
     },
     "execution_count": 40,
     "metadata": {},
     "output_type": "execute_result"
    },
    {
     "data": {
      "image/png": "[encoded data removed]",
      "text/plain": [
       "<Figure size 432x288 with 1 Axes>"
      ]
     },
     "metadata": {
      "needs_background": "light"
     },
     "output_type": "display_data"
    }
   ],
   "source": [
    "Jobs = ('admin', 'blue-collar', 'entrepeneur', 'housemaid', 'management', 'retired', 'self-employed',\n",
    "         'services', 'student', 'technician', 'unemployed')\n",
    "\n",
    "Count = (631, 708, 123, 109, 1301, 516, 187, 396, 369, 840, 202)\n",
    "\n",
    "plt.barh(Jobs, Count)\n",
    "plt.title('Job count')\n",
    "plt.xlabel('Count')\n",
    "plt.ylabel('Job')"
   ]
  },
  {
   "cell_type": "markdown",
   "metadata": {},
   "source": [
    "## Builiding logistic regression model to make predictions"
   ]
  },
  {
   "cell_type": "code",
   "execution_count": 15,
   "metadata": {
    "scrolled": false
   },
   "outputs": [
    {
     "name": "stdout",
     "output_type": "stream",
     "text": [
      "Optimization terminated successfully.\n",
      "         Current function value: 0.279881\n",
      "         Iterations 7\n"
     ]
    },
    {
     "data": {
      "text/html": [
       "<table class=\"simpletable\">\n",
       "<caption>Logit Regression Results</caption>\n",
       "<tr>\n",
       "  <th>Dep. Variable:</th>        <td>Deposit</td>     <th>  No. Observations:  </th>   <td>  4521</td>  \n",
       "</tr>\n",
       "<tr>\n",
       "  <th>Model:</th>                 <td>Logit</td>      <th>  Df Residuals:      </th>   <td>  4499</td>  \n",
       "</tr>\n",
       "<tr>\n",
       "  <th>Method:</th>                 <td>MLE</td>       <th>  Df Model:          </th>   <td>    21</td>  \n",
       "</tr>\n",
       "<tr>\n",
       "  <th>Date:</th>            <td>Mon, 15 Mar 2021</td> <th>  Pseudo R-squ.:     </th>   <td>0.2167</td>  \n",
       "</tr>\n",
       "<tr>\n",
       "  <th>Time:</th>                <td>22:54:19</td>     <th>  Log-Likelihood:    </th>  <td> -1265.3</td> \n",
       "</tr>\n",
       "<tr>\n",
       "  <th>converged:</th>             <td>True</td>       <th>  LL-Null:           </th>  <td> -1615.5</td> \n",
       "</tr>\n",
       "<tr>\n",
       "  <th>Covariance Type:</th>     <td>nonrobust</td>    <th>  LLR p-value:       </th> <td>1.137e-134</td>\n",
       "</tr>\n",
       "</table>\n",
       "<table class=\"simpletable\">\n",
       "<tr>\n",
       "             <td></td>               <th>coef</th>     <th>std err</th>      <th>z</th>      <th>P>|z|</th>  <th>[0.025</th>    <th>0.975]</th>  \n",
       "</tr>\n",
       "<tr>\n",
       "  <th>Intercept</th>              <td>   -2.8765</td> <td> 8.74e+06</td> <td>-3.29e-07</td> <td> 1.000</td> <td>-1.71e+07</td> <td> 1.71e+07</td>\n",
       "</tr>\n",
       "<tr>\n",
       "  <th>job[T.blue-collar]</th>     <td>   -0.7228</td> <td>    0.221</td> <td>   -3.265</td> <td> 0.001</td> <td>   -1.157</td> <td>   -0.289</td>\n",
       "</tr>\n",
       "<tr>\n",
       "  <th>job[T.entrepreneur]</th>    <td>   -0.7476</td> <td>    0.352</td> <td>   -2.121</td> <td> 0.034</td> <td>   -1.438</td> <td>   -0.057</td>\n",
       "</tr>\n",
       "<tr>\n",
       "  <th>job[T.housemaid]</th>       <td>   -0.5522</td> <td>    0.386</td> <td>   -1.431</td> <td> 0.152</td> <td>   -1.308</td> <td>    0.204</td>\n",
       "</tr>\n",
       "<tr>\n",
       "  <th>job[T.management]</th>      <td>   -0.3355</td> <td>    0.218</td> <td>   -1.538</td> <td> 0.124</td> <td>   -0.763</td> <td>    0.092</td>\n",
       "</tr>\n",
       "<tr>\n",
       "  <th>job[T.retired]</th>         <td>    0.3469</td> <td>    0.277</td> <td>    1.250</td> <td> 0.211</td> <td>   -0.197</td> <td>    0.891</td>\n",
       "</tr>\n",
       "<tr>\n",
       "  <th>job[T.self-employed]</th>   <td>   -0.6290</td> <td>    0.328</td> <td>   -1.916</td> <td> 0.055</td> <td>   -1.272</td> <td>    0.014</td>\n",
       "</tr>\n",
       "<tr>\n",
       "  <th>job[T.services]</th>        <td>   -0.4414</td> <td>    0.247</td> <td>   -1.784</td> <td> 0.074</td> <td>   -0.926</td> <td>    0.043</td>\n",
       "</tr>\n",
       "<tr>\n",
       "  <th>job[T.student]</th>         <td>    0.4685</td> <td>    0.337</td> <td>    1.388</td> <td> 0.165</td> <td>   -0.193</td> <td>    1.130</td>\n",
       "</tr>\n",
       "<tr>\n",
       "  <th>job[T.technician]</th>      <td>   -0.3686</td> <td>    0.206</td> <td>   -1.787</td> <td> 0.074</td> <td>   -0.773</td> <td>    0.036</td>\n",
       "</tr>\n",
       "<tr>\n",
       "  <th>job[T.unemployed]</th>      <td>   -0.8360</td> <td>    0.382</td> <td>   -2.188</td> <td> 0.029</td> <td>   -1.585</td> <td>   -0.087</td>\n",
       "</tr>\n",
       "<tr>\n",
       "  <th>job[T.unknown]</th>         <td>    0.2956</td> <td>    0.486</td> <td>    0.609</td> <td> 0.543</td> <td>   -0.656</td> <td>    1.248</td>\n",
       "</tr>\n",
       "<tr>\n",
       "  <th>marital[T.married]</th>     <td>   -0.3347</td> <td>    0.160</td> <td>   -2.089</td> <td> 0.037</td> <td>   -0.649</td> <td>   -0.021</td>\n",
       "</tr>\n",
       "<tr>\n",
       "  <th>marital[T.single]</th>      <td>   -0.0791</td> <td>    0.187</td> <td>   -0.424</td> <td> 0.672</td> <td>   -0.445</td> <td>    0.287</td>\n",
       "</tr>\n",
       "<tr>\n",
       "  <th>education[T.secondary]</th> <td>    0.1271</td> <td>    0.186</td> <td>    0.682</td> <td> 0.495</td> <td>   -0.238</td> <td>    0.492</td>\n",
       "</tr>\n",
       "<tr>\n",
       "  <th>education[T.tertiary]</th>  <td>    0.4931</td> <td>    0.213</td> <td>    2.311</td> <td> 0.021</td> <td>    0.075</td> <td>    0.911</td>\n",
       "</tr>\n",
       "<tr>\n",
       "  <th>education[T.unknown]</th>   <td>   -0.2374</td> <td>    0.318</td> <td>   -0.746</td> <td> 0.456</td> <td>   -0.862</td> <td>    0.387</td>\n",
       "</tr>\n",
       "<tr>\n",
       "  <th>cluster_1[T.True]</th>      <td>   -0.6598</td> <td> 8.74e+06</td> <td>-7.55e-08</td> <td> 1.000</td> <td>-1.71e+07</td> <td> 1.71e+07</td>\n",
       "</tr>\n",
       "<tr>\n",
       "  <th>cluster_2[T.True]</th>      <td>    0.0894</td> <td> 8.74e+06</td> <td> 1.02e-08</td> <td> 1.000</td> <td>-1.71e+07</td> <td> 1.71e+07</td>\n",
       "</tr>\n",
       "<tr>\n",
       "  <th>cluster_3[T.True]</th>      <td>   -1.1422</td> <td> 8.74e+06</td> <td>-1.31e-07</td> <td> 1.000</td> <td>-1.71e+07</td> <td> 1.71e+07</td>\n",
       "</tr>\n",
       "<tr>\n",
       "  <th>cluster_4[T.True]</th>      <td>   -1.1639</td> <td> 8.74e+06</td> <td>-1.33e-07</td> <td> 1.000</td> <td>-1.71e+07</td> <td> 1.71e+07</td>\n",
       "</tr>\n",
       "<tr>\n",
       "  <th>duration</th>               <td>    0.0039</td> <td>    0.000</td> <td>   20.906</td> <td> 0.000</td> <td>    0.003</td> <td>    0.004</td>\n",
       "</tr>\n",
       "<tr>\n",
       "  <th>age</th>                    <td>    0.0056</td> <td>    0.006</td> <td>    0.881</td> <td> 0.379</td> <td>   -0.007</td> <td>    0.018</td>\n",
       "</tr>\n",
       "</table>"
      ],
      "text/plain": [
       "<class 'statsmodels.iolib.summary.Summary'>\n",
       "\"\"\"\n",
       "                           Logit Regression Results                           \n",
       "==============================================================================\n",
       "Dep. Variable:                Deposit   No. Observations:                 4521\n",
       "Model:                          Logit   Df Residuals:                     4499\n",
       "Method:                           MLE   Df Model:                           21\n",
       "Date:                Mon, 15 Mar 2021   Pseudo R-squ.:                  0.2167\n",
       "Time:                        22:54:19   Log-Likelihood:                -1265.3\n",
       "converged:                       True   LL-Null:                       -1615.5\n",
       "Covariance Type:            nonrobust   LLR p-value:                1.137e-134\n",
       "==========================================================================================\n",
       "                             coef    std err          z      P>|z|      [0.025      0.975]\n",
       "------------------------------------------------------------------------------------------\n",
       "Intercept                 -2.8765   8.74e+06  -3.29e-07      1.000   -1.71e+07    1.71e+07\n",
       "job[T.blue-collar]        -0.7228      0.221     -3.265      0.001      -1.157      -0.289\n",
       "job[T.entrepreneur]       -0.7476      0.352     -2.121      0.034      -1.438      -0.057\n",
       "job[T.housemaid]          -0.5522      0.386     -1.431      0.152      -1.308       0.204\n",
       "job[T.management]         -0.3355      0.218     -1.538      0.124      -0.763       0.092\n",
       "job[T.retired]             0.3469      0.277      1.250      0.211      -0.197       0.891\n",
       "job[T.self-employed]      -0.6290      0.328     -1.916      0.055      -1.272       0.014\n",
       "job[T.services]           -0.4414      0.247     -1.784      0.074      -0.926       0.043\n",
       "job[T.student]             0.4685      0.337      1.388      0.165      -0.193       1.130\n",
       "job[T.technician]         -0.3686      0.206     -1.787      0.074      -0.773       0.036\n",
       "job[T.unemployed]         -0.8360      0.382     -2.188      0.029      -1.585      -0.087\n",
       "job[T.unknown]             0.2956      0.486      0.609      0.543      -0.656       1.248\n",
       "marital[T.married]        -0.3347      0.160     -2.089      0.037      -0.649      -0.021\n",
       "marital[T.single]         -0.0791      0.187     -0.424      0.672      -0.445       0.287\n",
       "education[T.secondary]     0.1271      0.186      0.682      0.495      -0.238       0.492\n",
       "education[T.tertiary]      0.4931      0.213      2.311      0.021       0.075       0.911\n",
       "education[T.unknown]      -0.2374      0.318     -0.746      0.456      -0.862       0.387\n",
       "cluster_1[T.True]         -0.6598   8.74e+06  -7.55e-08      1.000   -1.71e+07    1.71e+07\n",
       "cluster_2[T.True]          0.0894   8.74e+06   1.02e-08      1.000   -1.71e+07    1.71e+07\n",
       "cluster_3[T.True]         -1.1422   8.74e+06  -1.31e-07      1.000   -1.71e+07    1.71e+07\n",
       "cluster_4[T.True]         -1.1639   8.74e+06  -1.33e-07      1.000   -1.71e+07    1.71e+07\n",
       "duration                   0.0039      0.000     20.906      0.000       0.003       0.004\n",
       "age                        0.0056      0.006      0.881      0.379      -0.007       0.018\n",
       "==========================================================================================\n",
       "\"\"\""
      ]
     },
     "execution_count": 15,
     "metadata": {},
     "output_type": "execute_result"
    }
   ],
   "source": [
    "## Building the model\n",
    "logit_md = smf.logit(formula = 'Deposit ~ duration + age + job + marital + education + cluster_1 + cluster_2 + cluster_3 + cluster_4' , data = project)\n",
    "result = logit_md.fit()\n",
    "result.summary()"
   ]
  },
  {
   "cell_type": "markdown",
   "metadata": {},
   "source": [
    "By looking at the Logit Regression Results, we can see that duration, age, cluster_2, marital[single], job[student and retired], have a positive relationsip with deposit. \n",
    "\n",
    "Besides, other than the clusterings, job[unemployed], and marital[married], all of the variables have a p-value under 0.05, what means that we have strong evidence that those variables actually interfere in the deposit."
   ]
  },
  {
   "cell_type": "markdown",
   "metadata": {},
   "source": [
    "# Calculating probability of conversion (deposit)"
   ]
  },
  {
   "cell_type": "code",
   "execution_count": 53,
   "metadata": {},
   "outputs": [
    {
     "name": "stdout",
     "output_type": "stream",
     "text": [
      "85.97 % **Result obtained by using values with high probability of conversion**\n"
     ]
    }
   ],
   "source": [
    "## Formula applied using the most popular category of each column when deposit = yes\n",
    "## intercept + age(35) + marital(married) + job(management) + education(secondary) + duration(361) + cluster(2)\n",
    "result = (np.exp(-2.7171 + 0.0147*35 + -0.0061 + -0.2535 + 0.3973 + 0.0046*361) + 0.3798 / (1+ np.exp(-2.7171 + 0.0147*35 + -0.0061 + -0.2535 + 0.3973 + 0.0046*361 + 0.3798)))*100\n",
    "print(round(result,2),'%','**Result obtained by using values with high probability of conversion**')"
   ]
  },
  {
   "cell_type": "markdown",
   "metadata": {},
   "source": [
    "## Creating variable to hold the number of the campaigns that succeed"
   ]
  },
  {
   "cell_type": "code",
   "execution_count": 43,
   "metadata": {},
   "outputs": [],
   "source": [
    "project['successful_campaigns'] = project['campaign'][np.logical_and(project['Deposit'] == 1, \n",
    "                                            project['marital'] == 'married')]"
   ]
  },
  {
   "cell_type": "code",
   "execution_count": 44,
   "metadata": {
    "scrolled": true
   },
   "outputs": [
    {
     "data": {
      "text/plain": [
       "1.0     131\n",
       "2.0      69\n",
       "3.0      29\n",
       "4.0      27\n",
       "6.0       6\n",
       "7.0       5\n",
       "5.0       5\n",
       "17.0      1\n",
       "12.0      1\n",
       "13.0      1\n",
       "10.0      1\n",
       "24.0      1\n",
       "Name: successful_campaigns, dtype: int64"
      ]
     },
     "execution_count": 44,
     "metadata": {},
     "output_type": "execute_result"
    }
   ],
   "source": [
    "## Visualizing results\n",
    "project.successful_campaigns.value_counts()"
   ]
  },
  {
   "cell_type": "markdown",
   "metadata": {},
   "source": [
    "## Manualy generating a bar plot to represent the number of conversions for each campaign"
   ]
  },
  {
   "cell_type": "code",
   "execution_count": 45,
   "metadata": {
    "scrolled": false
   },
   "outputs": [
    {
     "data": {
      "text/plain": [
       "Text(0.5, 1.0, 'Campaign count')"
      ]
     },
     "execution_count": 45,
     "metadata": {},
     "output_type": "execute_result"
    },
    {
     "data": {
      "image/png": "[encoded data removed]",
      "text/plain": [
       "<Figure size 432x288 with 1 Axes>"
      ]
     },
     "metadata": {
      "needs_background": "light"
     },
     "output_type": "display_data"
    }
   ],
   "source": [
    "Campaigns = ('1', '2', '3', '4','5','6','7','8','9','10','11','12','13','14','15','17','24','29','32')\n",
    "Count = (1283, 736,342,178,76,48,30,15,14,9,10,2,4,2,2,1,1,1,1)\n",
    "\n",
    "plt.barh(Campaigns, Count)\n",
    "plt.xlabel('Count')\n",
    "plt.ylabel('Campaign')\n",
    "plt.title('Campaign count')"
   ]
  },
  {
   "cell_type": "markdown",
   "metadata": {},
   "source": [
    "## Conversion rate by campaign"
   ]
  },
  {
   "cell_type": "code",
   "execution_count": 46,
   "metadata": {
    "scrolled": true
   },
   "outputs": [
    {
     "data": {
      "text/plain": [
       "campaign\n",
       "1     13.840830\n",
       "2     10.917722\n",
       "3     10.215054\n",
       "4     13.230769\n",
       "5      5.389222\n",
       "6     10.322581\n",
       "7      8.000000\n",
       "8      7.142857\n",
       "9      6.666667\n",
       "10     3.703704\n",
       "11     0.000000\n",
       "12     4.761905\n",
       "13    11.764706\n",
       "14     0.000000\n",
       "15     0.000000\n",
       "16     0.000000\n",
       "17    14.285714\n",
       "18     0.000000\n",
       "19     0.000000\n",
       "20     0.000000\n",
       "21     0.000000\n",
       "22     0.000000\n",
       "23     0.000000\n",
       "24    33.333333\n",
       "25     0.000000\n",
       "28     0.000000\n",
       "29     0.000000\n",
       "30     0.000000\n",
       "31     0.000000\n",
       "32     0.000000\n",
       "44     0.000000\n",
       "50     0.000000\n",
       "Name: Deposit, dtype: float64"
      ]
     },
     "execution_count": 46,
     "metadata": {},
     "output_type": "execute_result"
    }
   ],
   "source": [
    "## Conversion rate by campaign\n",
    "(project.groupby('campaign')['Deposit'].sum() / project.groupby('campaign')['Deposit'].count())*100"
   ]
  },
  {
   "cell_type": "markdown",
   "metadata": {},
   "source": [
    "By looking at the previous plot and at the convertion rate, we can see that campaign 1 was the most successful."
   ]
  },
  {
   "cell_type": "markdown",
   "metadata": {},
   "source": [
    "## A/B Testing"
   ]
  },
  {
   "cell_type": "code",
   "execution_count": 47,
   "metadata": {},
   "outputs": [
    {
     "data": {
      "text/plain": [
       "Ttest_indResult(statistic=-0.9011669063758415, pvalue=0.368828927151467)"
      ]
     },
     "execution_count": 47,
     "metadata": {},
     "output_type": "execute_result"
    }
   ],
   "source": [
    "## Sepaating customer groups\n",
    "customer_1 = project['Deposit'][np.logical_and(project['campaign'] == 1,\n",
    "    project['marital'] == 'married')]\n",
    "\n",
    "customer_2 = project['Deposit'][np.logical_and(project['campaign'] == 3,\n",
    "    project['marital'] == 'single')]\n",
    "## Importing scipy.stats\n",
    "from scipy.stats import ttest_ind\n",
    "\n",
    "## Comparing sales\n",
    "ttest_ind(customer_1,customer_2, equal_var = False)"
   ]
  },
  {
   "cell_type": "markdown",
   "metadata": {},
   "source": [
    "High p-value, what is good because we have enough evidence that campaign 1, when applied for married people, will probably result in a subscription if compared to campaign 3 applied for a single person."
   ]
  },
  {
   "cell_type": "code",
   "execution_count": 48,
   "metadata": {
    "scrolled": true
   },
   "outputs": [
    {
     "data": {
      "text/plain": [
       "Ttest_indResult(statistic=1.0073592791801198, pvalue=0.3230085905282939)"
      ]
     },
     "execution_count": 48,
     "metadata": {},
     "output_type": "execute_result"
    }
   ],
   "source": [
    "## Sepaating customer groups\n",
    "customer_1 = project['Deposit'][np.logical_and(project['campaign'] == 1,\n",
    "    project['education'] == 'secondary')]\n",
    "\n",
    "customer_2 = project['Deposit'][np.logical_and(project['campaign'] == 5,\n",
    "    project['education'] == 'primary')]\n",
    "## Importing scipy.stats\n",
    "from scipy.stats import ttest_ind\n",
    "\n",
    "## Comparing sales\n",
    "ttest_ind(customer_1,customer_2, equal_var = False)"
   ]
  },
  {
   "cell_type": "markdown",
   "metadata": {},
   "source": [
    "Another high p-value, but now for campaign 1 applied for seomeone who completed the secondary education when compared to campaign 5 being appied to someone who completed the primary education."
   ]
  },
  {
   "cell_type": "markdown",
   "metadata": {},
   "source": [
    "## Creating a columns for each cluster to analyze quick facts about each cluster"
   ]
  },
  {
   "cell_type": "code",
   "execution_count": 49,
   "metadata": {
    "scrolled": false
   },
   "outputs": [
    {
     "data": {
      "text/html": [
       "<div>\n",
       "<style scoped>\n",
       "    .dataframe tbody tr th:only-of-type {\n",
       "        vertical-align: middle;\n",
       "    }\n",
       "\n",
       "    .dataframe tbody tr th {\n",
       "        vertical-align: top;\n",
       "    }\n",
       "\n",
       "    .dataframe thead tr th {\n",
       "        text-align: left;\n",
       "    }\n",
       "\n",
       "    .dataframe thead tr:last-of-type th {\n",
       "        text-align: right;\n",
       "    }\n",
       "</style>\n",
       "<table border=\"1\" class=\"dataframe\">\n",
       "  <thead>\n",
       "    <tr>\n",
       "      <th></th>\n",
       "      <th colspan=\"8\" halign=\"left\">age</th>\n",
       "      <th colspan=\"5\" halign=\"left\">balance</th>\n",
       "      <th colspan=\"8\" halign=\"left\">duration</th>\n",
       "    </tr>\n",
       "    <tr>\n",
       "      <th></th>\n",
       "      <th>count</th>\n",
       "      <th>mean</th>\n",
       "      <th>std</th>\n",
       "      <th>min</th>\n",
       "      <th>25%</th>\n",
       "      <th>50%</th>\n",
       "      <th>75%</th>\n",
       "      <th>max</th>\n",
       "      <th>count</th>\n",
       "      <th>mean</th>\n",
       "      <th>...</th>\n",
       "      <th>75%</th>\n",
       "      <th>max</th>\n",
       "      <th>count</th>\n",
       "      <th>mean</th>\n",
       "      <th>std</th>\n",
       "      <th>min</th>\n",
       "      <th>25%</th>\n",
       "      <th>50%</th>\n",
       "      <th>75%</th>\n",
       "      <th>max</th>\n",
       "    </tr>\n",
       "    <tr>\n",
       "      <th>cluster_1</th>\n",
       "      <th></th>\n",
       "      <th></th>\n",
       "      <th></th>\n",
       "      <th></th>\n",
       "      <th></th>\n",
       "      <th></th>\n",
       "      <th></th>\n",
       "      <th></th>\n",
       "      <th></th>\n",
       "      <th></th>\n",
       "      <th></th>\n",
       "      <th></th>\n",
       "      <th></th>\n",
       "      <th></th>\n",
       "      <th></th>\n",
       "      <th></th>\n",
       "      <th></th>\n",
       "      <th></th>\n",
       "      <th></th>\n",
       "      <th></th>\n",
       "      <th></th>\n",
       "    </tr>\n",
       "  </thead>\n",
       "  <tbody>\n",
       "    <tr>\n",
       "      <th>False</th>\n",
       "      <td>2368.0</td>\n",
       "      <td>42.717483</td>\n",
       "      <td>11.679895</td>\n",
       "      <td>19.0</td>\n",
       "      <td>33.0</td>\n",
       "      <td>41.0</td>\n",
       "      <td>51.0</td>\n",
       "      <td>87.0</td>\n",
       "      <td>2368.0</td>\n",
       "      <td>1477.645270</td>\n",
       "      <td>...</td>\n",
       "      <td>1532.0</td>\n",
       "      <td>71188.0</td>\n",
       "      <td>2368.0</td>\n",
       "      <td>260.246199</td>\n",
       "      <td>256.704918</td>\n",
       "      <td>5.0</td>\n",
       "      <td>104.0</td>\n",
       "      <td>180.0</td>\n",
       "      <td>327.0</td>\n",
       "      <td>3025.0</td>\n",
       "    </tr>\n",
       "    <tr>\n",
       "      <th>True</th>\n",
       "      <td>2153.0</td>\n",
       "      <td>39.468184</td>\n",
       "      <td>8.908302</td>\n",
       "      <td>21.0</td>\n",
       "      <td>33.0</td>\n",
       "      <td>38.0</td>\n",
       "      <td>46.0</td>\n",
       "      <td>75.0</td>\n",
       "      <td>2153.0</td>\n",
       "      <td>1362.179285</td>\n",
       "      <td>...</td>\n",
       "      <td>1429.0</td>\n",
       "      <td>27733.0</td>\n",
       "      <td>2153.0</td>\n",
       "      <td>268.047376</td>\n",
       "      <td>263.278683</td>\n",
       "      <td>4.0</td>\n",
       "      <td>104.0</td>\n",
       "      <td>191.0</td>\n",
       "      <td>332.0</td>\n",
       "      <td>2456.0</td>\n",
       "    </tr>\n",
       "  </tbody>\n",
       "</table>\n",
       "<p>2 rows × 24 columns</p>\n",
       "</div>"
      ],
      "text/plain": [
       "              age                                                     balance  \\\n",
       "            count       mean        std   min   25%   50%   75%   max   count   \n",
       "cluster_1                                                                       \n",
       "False      2368.0  42.717483  11.679895  19.0  33.0  41.0  51.0  87.0  2368.0   \n",
       "True       2153.0  39.468184   8.908302  21.0  33.0  38.0  46.0  75.0  2153.0   \n",
       "\n",
       "                        ...                  duration                          \\\n",
       "                  mean  ...     75%      max    count        mean         std   \n",
       "cluster_1               ...                                                     \n",
       "False      1477.645270  ...  1532.0  71188.0   2368.0  260.246199  256.704918   \n",
       "True       1362.179285  ...  1429.0  27733.0   2153.0  268.047376  263.278683   \n",
       "\n",
       "                                             \n",
       "           min    25%    50%    75%     max  \n",
       "cluster_1                                    \n",
       "False      5.0  104.0  180.0  327.0  3025.0  \n",
       "True       4.0  104.0  191.0  332.0  2456.0  \n",
       "\n",
       "[2 rows x 24 columns]"
      ]
     },
     "execution_count": 49,
     "metadata": {},
     "output_type": "execute_result"
    }
   ],
   "source": [
    "project.groupby('cluster_1')[['age','balance','duration']].describe()"
   ]
  },
  {
   "cell_type": "code",
   "execution_count": 50,
   "metadata": {
    "scrolled": true
   },
   "outputs": [
    {
     "data": {
      "text/html": [
       "<div>\n",
       "<style scoped>\n",
       "    .dataframe tbody tr th:only-of-type {\n",
       "        vertical-align: middle;\n",
       "    }\n",
       "\n",
       "    .dataframe tbody tr th {\n",
       "        vertical-align: top;\n",
       "    }\n",
       "\n",
       "    .dataframe thead tr th {\n",
       "        text-align: left;\n",
       "    }\n",
       "\n",
       "    .dataframe thead tr:last-of-type th {\n",
       "        text-align: right;\n",
       "    }\n",
       "</style>\n",
       "<table border=\"1\" class=\"dataframe\">\n",
       "  <thead>\n",
       "    <tr>\n",
       "      <th></th>\n",
       "      <th colspan=\"8\" halign=\"left\">age</th>\n",
       "      <th colspan=\"5\" halign=\"left\">balance</th>\n",
       "      <th colspan=\"8\" halign=\"left\">duration</th>\n",
       "    </tr>\n",
       "    <tr>\n",
       "      <th></th>\n",
       "      <th>count</th>\n",
       "      <th>mean</th>\n",
       "      <th>std</th>\n",
       "      <th>min</th>\n",
       "      <th>25%</th>\n",
       "      <th>50%</th>\n",
       "      <th>75%</th>\n",
       "      <th>max</th>\n",
       "      <th>count</th>\n",
       "      <th>mean</th>\n",
       "      <th>...</th>\n",
       "      <th>75%</th>\n",
       "      <th>max</th>\n",
       "      <th>count</th>\n",
       "      <th>mean</th>\n",
       "      <th>std</th>\n",
       "      <th>min</th>\n",
       "      <th>25%</th>\n",
       "      <th>50%</th>\n",
       "      <th>75%</th>\n",
       "      <th>max</th>\n",
       "    </tr>\n",
       "    <tr>\n",
       "      <th>cluster_2</th>\n",
       "      <th></th>\n",
       "      <th></th>\n",
       "      <th></th>\n",
       "      <th></th>\n",
       "      <th></th>\n",
       "      <th></th>\n",
       "      <th></th>\n",
       "      <th></th>\n",
       "      <th></th>\n",
       "      <th></th>\n",
       "      <th></th>\n",
       "      <th></th>\n",
       "      <th></th>\n",
       "      <th></th>\n",
       "      <th></th>\n",
       "      <th></th>\n",
       "      <th></th>\n",
       "      <th></th>\n",
       "      <th></th>\n",
       "      <th></th>\n",
       "      <th></th>\n",
       "    </tr>\n",
       "  </thead>\n",
       "  <tbody>\n",
       "    <tr>\n",
       "      <th>False</th>\n",
       "      <td>2844.0</td>\n",
       "      <td>39.813643</td>\n",
       "      <td>9.113256</td>\n",
       "      <td>21.0</td>\n",
       "      <td>33.0</td>\n",
       "      <td>38.0</td>\n",
       "      <td>47.0</td>\n",
       "      <td>75.0</td>\n",
       "      <td>2844.0</td>\n",
       "      <td>1254.054852</td>\n",
       "      <td>...</td>\n",
       "      <td>1313.25</td>\n",
       "      <td>27733.0</td>\n",
       "      <td>2844.0</td>\n",
       "      <td>266.311885</td>\n",
       "      <td>261.479426</td>\n",
       "      <td>4.0</td>\n",
       "      <td>103.0</td>\n",
       "      <td>187.0</td>\n",
       "      <td>330.0</td>\n",
       "      <td>2456.0</td>\n",
       "    </tr>\n",
       "    <tr>\n",
       "      <th>True</th>\n",
       "      <td>1677.0</td>\n",
       "      <td>43.470483</td>\n",
       "      <td>12.343720</td>\n",
       "      <td>19.0</td>\n",
       "      <td>34.0</td>\n",
       "      <td>42.0</td>\n",
       "      <td>52.0</td>\n",
       "      <td>87.0</td>\n",
       "      <td>1677.0</td>\n",
       "      <td>1708.589147</td>\n",
       "      <td>...</td>\n",
       "      <td>1840.00</td>\n",
       "      <td>71188.0</td>\n",
       "      <td>1677.0</td>\n",
       "      <td>259.974955</td>\n",
       "      <td>257.109661</td>\n",
       "      <td>5.0</td>\n",
       "      <td>106.0</td>\n",
       "      <td>182.0</td>\n",
       "      <td>328.0</td>\n",
       "      <td>3025.0</td>\n",
       "    </tr>\n",
       "  </tbody>\n",
       "</table>\n",
       "<p>2 rows × 24 columns</p>\n",
       "</div>"
      ],
      "text/plain": [
       "              age                                                     balance  \\\n",
       "            count       mean        std   min   25%   50%   75%   max   count   \n",
       "cluster_2                                                                       \n",
       "False      2844.0  39.813643   9.113256  21.0  33.0  38.0  47.0  75.0  2844.0   \n",
       "True       1677.0  43.470483  12.343720  19.0  34.0  42.0  52.0  87.0  1677.0   \n",
       "\n",
       "                        ...                   duration              \\\n",
       "                  mean  ...      75%      max    count        mean   \n",
       "cluster_2               ...                                          \n",
       "False      1254.054852  ...  1313.25  27733.0   2844.0  266.311885   \n",
       "True       1708.589147  ...  1840.00  71188.0   1677.0  259.974955   \n",
       "\n",
       "                                                         \n",
       "                  std  min    25%    50%    75%     max  \n",
       "cluster_2                                                \n",
       "False      261.479426  4.0  103.0  187.0  330.0  2456.0  \n",
       "True       257.109661  5.0  106.0  182.0  328.0  3025.0  \n",
       "\n",
       "[2 rows x 24 columns]"
      ]
     },
     "execution_count": 50,
     "metadata": {},
     "output_type": "execute_result"
    }
   ],
   "source": [
    "project.groupby('cluster_2')[['age','balance','duration']].describe()"
   ]
  },
  {
   "cell_type": "code",
   "execution_count": 51,
   "metadata": {
    "scrolled": true
   },
   "outputs": [
    {
     "data": {
      "text/html": [
       "<div>\n",
       "<style scoped>\n",
       "    .dataframe tbody tr th:only-of-type {\n",
       "        vertical-align: middle;\n",
       "    }\n",
       "\n",
       "    .dataframe tbody tr th {\n",
       "        vertical-align: top;\n",
       "    }\n",
       "\n",
       "    .dataframe thead tr th {\n",
       "        text-align: left;\n",
       "    }\n",
       "\n",
       "    .dataframe thead tr:last-of-type th {\n",
       "        text-align: right;\n",
       "    }\n",
       "</style>\n",
       "<table border=\"1\" class=\"dataframe\">\n",
       "  <thead>\n",
       "    <tr>\n",
       "      <th></th>\n",
       "      <th colspan=\"8\" halign=\"left\">age</th>\n",
       "      <th colspan=\"5\" halign=\"left\">balance</th>\n",
       "      <th colspan=\"8\" halign=\"left\">duration</th>\n",
       "    </tr>\n",
       "    <tr>\n",
       "      <th></th>\n",
       "      <th>count</th>\n",
       "      <th>mean</th>\n",
       "      <th>std</th>\n",
       "      <th>min</th>\n",
       "      <th>25%</th>\n",
       "      <th>50%</th>\n",
       "      <th>75%</th>\n",
       "      <th>max</th>\n",
       "      <th>count</th>\n",
       "      <th>mean</th>\n",
       "      <th>...</th>\n",
       "      <th>75%</th>\n",
       "      <th>max</th>\n",
       "      <th>count</th>\n",
       "      <th>mean</th>\n",
       "      <th>std</th>\n",
       "      <th>min</th>\n",
       "      <th>25%</th>\n",
       "      <th>50%</th>\n",
       "      <th>75%</th>\n",
       "      <th>max</th>\n",
       "    </tr>\n",
       "    <tr>\n",
       "      <th>cluster_3</th>\n",
       "      <th></th>\n",
       "      <th></th>\n",
       "      <th></th>\n",
       "      <th></th>\n",
       "      <th></th>\n",
       "      <th></th>\n",
       "      <th></th>\n",
       "      <th></th>\n",
       "      <th></th>\n",
       "      <th></th>\n",
       "      <th></th>\n",
       "      <th></th>\n",
       "      <th></th>\n",
       "      <th></th>\n",
       "      <th></th>\n",
       "      <th></th>\n",
       "      <th></th>\n",
       "      <th></th>\n",
       "      <th></th>\n",
       "      <th></th>\n",
       "      <th></th>\n",
       "    </tr>\n",
       "  </thead>\n",
       "  <tbody>\n",
       "    <tr>\n",
       "      <th>False</th>\n",
       "      <td>4115.0</td>\n",
       "      <td>41.396112</td>\n",
       "      <td>10.723741</td>\n",
       "      <td>19.0</td>\n",
       "      <td>33.0</td>\n",
       "      <td>39.0</td>\n",
       "      <td>49.0</td>\n",
       "      <td>87.0</td>\n",
       "      <td>4115.0</td>\n",
       "      <td>1473.318591</td>\n",
       "      <td>...</td>\n",
       "      <td>1544.5</td>\n",
       "      <td>71188.0</td>\n",
       "      <td>4115.0</td>\n",
       "      <td>263.872175</td>\n",
       "      <td>260.548320</td>\n",
       "      <td>4.0</td>\n",
       "      <td>104.0</td>\n",
       "      <td>185.0</td>\n",
       "      <td>330.00</td>\n",
       "      <td>3025.0</td>\n",
       "    </tr>\n",
       "    <tr>\n",
       "      <th>True</th>\n",
       "      <td>406.0</td>\n",
       "      <td>38.879310</td>\n",
       "      <td>8.627416</td>\n",
       "      <td>24.0</td>\n",
       "      <td>32.0</td>\n",
       "      <td>37.0</td>\n",
       "      <td>45.0</td>\n",
       "      <td>60.0</td>\n",
       "      <td>406.0</td>\n",
       "      <td>909.187192</td>\n",
       "      <td>...</td>\n",
       "      <td>964.5</td>\n",
       "      <td>19447.0</td>\n",
       "      <td>406.0</td>\n",
       "      <td>264.864532</td>\n",
       "      <td>253.051069</td>\n",
       "      <td>8.0</td>\n",
       "      <td>104.0</td>\n",
       "      <td>187.0</td>\n",
       "      <td>316.25</td>\n",
       "      <td>1689.0</td>\n",
       "    </tr>\n",
       "  </tbody>\n",
       "</table>\n",
       "<p>2 rows × 24 columns</p>\n",
       "</div>"
      ],
      "text/plain": [
       "              age                                                     balance  \\\n",
       "            count       mean        std   min   25%   50%   75%   max   count   \n",
       "cluster_3                                                                       \n",
       "False      4115.0  41.396112  10.723741  19.0  33.0  39.0  49.0  87.0  4115.0   \n",
       "True        406.0  38.879310   8.627416  24.0  32.0  37.0  45.0  60.0   406.0   \n",
       "\n",
       "                        ...                  duration                          \\\n",
       "                  mean  ...     75%      max    count        mean         std   \n",
       "cluster_3               ...                                                     \n",
       "False      1473.318591  ...  1544.5  71188.0   4115.0  263.872175  260.548320   \n",
       "True        909.187192  ...   964.5  19447.0    406.0  264.864532  253.051069   \n",
       "\n",
       "                                              \n",
       "           min    25%    50%     75%     max  \n",
       "cluster_3                                     \n",
       "False      4.0  104.0  185.0  330.00  3025.0  \n",
       "True       8.0  104.0  187.0  316.25  1689.0  \n",
       "\n",
       "[2 rows x 24 columns]"
      ]
     },
     "execution_count": 51,
     "metadata": {},
     "output_type": "execute_result"
    }
   ],
   "source": [
    "project.groupby('cluster_3')[['age','balance','duration']].describe()"
   ]
  },
  {
   "cell_type": "code",
   "execution_count": 52,
   "metadata": {
    "scrolled": true
   },
   "outputs": [
    {
     "data": {
      "text/html": [
       "<div>\n",
       "<style scoped>\n",
       "    .dataframe tbody tr th:only-of-type {\n",
       "        vertical-align: middle;\n",
       "    }\n",
       "\n",
       "    .dataframe tbody tr th {\n",
       "        vertical-align: top;\n",
       "    }\n",
       "\n",
       "    .dataframe thead tr th {\n",
       "        text-align: left;\n",
       "    }\n",
       "\n",
       "    .dataframe thead tr:last-of-type th {\n",
       "        text-align: right;\n",
       "    }\n",
       "</style>\n",
       "<table border=\"1\" class=\"dataframe\">\n",
       "  <thead>\n",
       "    <tr>\n",
       "      <th></th>\n",
       "      <th colspan=\"8\" halign=\"left\">age</th>\n",
       "      <th colspan=\"5\" halign=\"left\">balance</th>\n",
       "      <th colspan=\"8\" halign=\"left\">duration</th>\n",
       "    </tr>\n",
       "    <tr>\n",
       "      <th></th>\n",
       "      <th>count</th>\n",
       "      <th>mean</th>\n",
       "      <th>std</th>\n",
       "      <th>min</th>\n",
       "      <th>25%</th>\n",
       "      <th>50%</th>\n",
       "      <th>75%</th>\n",
       "      <th>max</th>\n",
       "      <th>count</th>\n",
       "      <th>mean</th>\n",
       "      <th>...</th>\n",
       "      <th>75%</th>\n",
       "      <th>max</th>\n",
       "      <th>count</th>\n",
       "      <th>mean</th>\n",
       "      <th>std</th>\n",
       "      <th>min</th>\n",
       "      <th>25%</th>\n",
       "      <th>50%</th>\n",
       "      <th>75%</th>\n",
       "      <th>max</th>\n",
       "    </tr>\n",
       "    <tr>\n",
       "      <th>cluster_4</th>\n",
       "      <th></th>\n",
       "      <th></th>\n",
       "      <th></th>\n",
       "      <th></th>\n",
       "      <th></th>\n",
       "      <th></th>\n",
       "      <th></th>\n",
       "      <th></th>\n",
       "      <th></th>\n",
       "      <th></th>\n",
       "      <th></th>\n",
       "      <th></th>\n",
       "      <th></th>\n",
       "      <th></th>\n",
       "      <th></th>\n",
       "      <th></th>\n",
       "      <th></th>\n",
       "      <th></th>\n",
       "      <th></th>\n",
       "      <th></th>\n",
       "      <th></th>\n",
       "    </tr>\n",
       "  </thead>\n",
       "  <tbody>\n",
       "    <tr>\n",
       "      <th>False</th>\n",
       "      <td>4236.0</td>\n",
       "      <td>40.996223</td>\n",
       "      <td>10.572781</td>\n",
       "      <td>19.0</td>\n",
       "      <td>33.0</td>\n",
       "      <td>39.0</td>\n",
       "      <td>48.0</td>\n",
       "      <td>87.0</td>\n",
       "      <td>4236.0</td>\n",
       "      <td>1455.903211</td>\n",
       "      <td>...</td>\n",
       "      <td>1517.25</td>\n",
       "      <td>71188.0</td>\n",
       "      <td>4236.0</td>\n",
       "      <td>264.546506</td>\n",
       "      <td>259.849885</td>\n",
       "      <td>4.0</td>\n",
       "      <td>105.0</td>\n",
       "      <td>187.0</td>\n",
       "      <td>330.0</td>\n",
       "      <td>3025.0</td>\n",
       "    </tr>\n",
       "    <tr>\n",
       "      <th>True</th>\n",
       "      <td>285.0</td>\n",
       "      <td>43.754386</td>\n",
       "      <td>10.304315</td>\n",
       "      <td>22.0</td>\n",
       "      <td>35.0</td>\n",
       "      <td>45.0</td>\n",
       "      <td>53.0</td>\n",
       "      <td>61.0</td>\n",
       "      <td>285.0</td>\n",
       "      <td>928.526316</td>\n",
       "      <td>...</td>\n",
       "      <td>879.00</td>\n",
       "      <td>27069.0</td>\n",
       "      <td>285.0</td>\n",
       "      <td>255.263158</td>\n",
       "      <td>260.258520</td>\n",
       "      <td>5.0</td>\n",
       "      <td>90.0</td>\n",
       "      <td>166.0</td>\n",
       "      <td>316.0</td>\n",
       "      <td>2029.0</td>\n",
       "    </tr>\n",
       "  </tbody>\n",
       "</table>\n",
       "<p>2 rows × 24 columns</p>\n",
       "</div>"
      ],
      "text/plain": [
       "              age                                                     balance  \\\n",
       "            count       mean        std   min   25%   50%   75%   max   count   \n",
       "cluster_4                                                                       \n",
       "False      4236.0  40.996223  10.572781  19.0  33.0  39.0  48.0  87.0  4236.0   \n",
       "True        285.0  43.754386  10.304315  22.0  35.0  45.0  53.0  61.0   285.0   \n",
       "\n",
       "                        ...                   duration              \\\n",
       "                  mean  ...      75%      max    count        mean   \n",
       "cluster_4               ...                                          \n",
       "False      1455.903211  ...  1517.25  71188.0   4236.0  264.546506   \n",
       "True        928.526316  ...   879.00  27069.0    285.0  255.263158   \n",
       "\n",
       "                                                         \n",
       "                  std  min    25%    50%    75%     max  \n",
       "cluster_4                                                \n",
       "False      259.849885  4.0  105.0  187.0  330.0  3025.0  \n",
       "True       260.258520  5.0   90.0  166.0  316.0  2029.0  \n",
       "\n",
       "[2 rows x 24 columns]"
      ]
     },
     "execution_count": 52,
     "metadata": {},
     "output_type": "execute_result"
    }
   ],
   "source": [
    "project.groupby('cluster_4')[['age','balance','duration']].describe()"
   ]
  }
 ],
 "metadata": {
  "kernelspec": {
   "display_name": "Python 3",
   "language": "python",
   "name": "python3"
  },
  "language_info": {
   "codemirror_mode": {
    "name": "ipython",
    "version": 3
   },
   "file_extension": ".py",
   "mimetype": "text/x-python",
   "name": "python",
   "nbconvert_exporter": "python",
   "pygments_lexer": "ipython3",
   "version": "3.7.5"
  }
 },
 "nbformat": 4,
 "nbformat_minor": 2
}
